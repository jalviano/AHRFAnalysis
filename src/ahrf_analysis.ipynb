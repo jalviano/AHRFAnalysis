{
 "cells": [
  {
   "cell_type": "markdown",
   "metadata": {},
   "source": [
    "# AHRF Data Analysis"
   ]
  },
  {
   "cell_type": "markdown",
   "metadata": {},
   "source": [
    "## Setup\n",
    "Setup environment and initialize data analyzer class."
   ]
  },
  {
   "cell_type": "code",
   "execution_count": null,
   "metadata": {},
   "outputs": [],
   "source": [
    "import plotly.figure_factory as ff\n",
    "from plotly.offline import download_plotlyjs, init_notebook_mode, iplot\n",
    "from IPython.display import IFrame\n",
    "from ahrf_analysis import AHRFDataAnalyzer\n",
    "\n",
    "# Setup global variables\n",
    "\n",
    "DATA_DIR = '../data'\n",
    "ASC_FILE = '{}/ahrf2018.asc'.format(DATA_DIR)\n",
    "SAS_FILE = '{}/AHRF2017-18.sas'.format(DATA_DIR)\n",
    "NAME = 'State Name'\n",
    "STATE = 'FIPS State Code'\n",
    "COUNTY = 'FIPS County Code'\n",
    "FIPS = 'FIPS'\n",
    "\n",
    "init_notebook_mode(connected=True)\n",
    "\n",
    "# Initialize analyzer object\n",
    "\n",
    "analyzer = AHRFDataAnalyzer(ASC_FILE, SAS_FILE)"
   ]
  },
  {
   "cell_type": "markdown",
   "metadata": {},
   "source": [
    "## Data parsing\n",
    "Read fixed-width AHRF data file and parse into respective CSV files."
   ]
  },
  {
   "cell_type": "code",
   "execution_count": null,
   "metadata": {},
   "outputs": [],
   "source": [
    "analyzer.parse_data()"
   ]
  },
  {
   "cell_type": "markdown",
   "metadata": {},
   "source": [
    "## Data plotting"
   ]
  },
  {
   "cell_type": "code",
   "execution_count": null,
   "metadata": {},
   "outputs": [],
   "source": [
    "def plot_results(fips, values, states, column, category):\n",
    "    \"\"\"\n",
    "    Build geocoded choropleth map of <column> data by county for selected <states>.\n",
    "    \"\"\"\n",
    "    fig = ff.create_choropleth(fips=fips,\n",
    "                               values=values,\n",
    "                               scope=states,\n",
    "                               show_state_data=True,\n",
    "                               round_legend_values=True,\n",
    "                               legend_title=column,\n",
    "                               exponent_format=True)\n",
    "    iplot(fig, filename='choropleth_map_{}'.format(category))"
   ]
  },
  {
   "cell_type": "markdown",
   "metadata": {},
   "source": [
    "## Environmental data\n",
    "\n",
    "Load environmental data and plot map for selected state(s)."
   ]
  },
  {
   "cell_type": "code",
   "execution_count": null,
   "metadata": {},
   "outputs": [],
   "source": [
    "# Column in 'ahrf2018_env.csv' file to plot\n",
    "column = 'Population Density per Sq Mile 2010'\n",
    "# States to analyze\n",
    "states = NE\n",
    "# Whether to normalize data before plotting\n",
    "normalize = False\n",
    "\n",
    "geocodes, results = analyzer.get_environmental_data(column=column, states=states, normalize=normalize)\n",
    "plot_results(geocodes, results, states, column, 'env')"
   ]
  },
  {
   "cell_type": "markdown",
   "metadata": {},
   "source": [
    "## Expenses data\n",
    "\n",
    "Load expenses data and plot map for selected state(s)."
   ]
  },
  {
   "cell_type": "code",
   "execution_count": null,
   "metadata": {},
   "outputs": [],
   "source": [
    "# Column in 'ahrf2018_exps.csv' file to plot\n",
    "column = 'Total Actual Medicare Costs Fee for Service 2015'\n",
    "# States to analyze\n",
    "states = NE\n",
    "# Whether to normalize data before plotting\n",
    "normalize = False\n",
    "\n",
    "geocodes, results = analyzer.get_expenses_data(column=column, states=states, normalize=normalize)\n",
    "plot_results(geocodes, results, states, column, 'exps')"
   ]
  },
  {
   "cell_type": "markdown",
   "metadata": {},
   "source": [
    "## Utilization data\n",
    "\n",
    "Load utilization data and plot map for selected state(s)."
   ]
  },
  {
   "cell_type": "code",
   "execution_count": null,
   "metadata": {},
   "outputs": [],
   "source": [
    "# Column in 'ahrf2018_util.csv' file to plot\n",
    "column = 'Inpatient Days Incl Nurs Home;Total Hosp 2016'\n",
    "# States to analyze\n",
    "states = NE\n",
    "# Whether to normalize data before plotting\n",
    "normalize = False\n",
    "\n",
    "geocodes, results = analyzer.get_utilization_data(column=column, states=states, normalize=normalize)\n",
    "plot_results(geocodes, results, states, column, 'util')"
   ]
  },
  {
   "cell_type": "markdown",
   "metadata": {},
   "source": [
    "## Population data\n",
    "\n",
    "Load population data and plot map for selected state(s)."
   ]
  },
  {
   "cell_type": "code",
   "execution_count": null,
   "metadata": {},
   "outputs": [],
   "source": [
    "# Column in 'ahrf2018_pop.csv' file to plot\n",
    "column = 'Census Population 2010'\n",
    "# States to analyze\n",
    "states = NE\n",
    "# Whether to normalize data before plotting\n",
    "normalize = False\n",
    "\n",
    "geocodes, results = analyzer.get_population_data(column=column, states=states, normalize=normalize)\n",
    "plot_results(geocodes, results, states, column, 'pop')"
   ]
  },
  {
   "cell_type": "markdown",
   "metadata": {},
   "source": [
    "## Facilities data\n",
    "Load facilities data and plot map for selected state(s)."
   ]
  },
  {
   "cell_type": "code",
   "execution_count": null,
   "metadata": {},
   "outputs": [],
   "source": [
    "# Column in 'ahrf2018_facils.csv' file to plot\n",
    "column = 'Total Number Hospitals 2016'\n",
    "# States to analyze\n",
    "states = NE\n",
    "# Whether to normalize data before plotting\n",
    "normalize = False\n",
    "\n",
    "geocodes, results = analyzer.get_facilities_data(column=column, states=states, normalize=normalize)\n",
    "plot_results(geocodes, results, states, column, 'facils')"
   ]
  },
  {
   "cell_type": "markdown",
   "metadata": {},
   "source": [
    "## Professions data\n",
    "\n",
    "Load professions data and plot map for selected state(s)."
   ]
  },
  {
   "cell_type": "code",
   "execution_count": null,
   "metadata": {},
   "outputs": [],
   "source": [
    "# Column in 'ahrf2018_prof.csv' file to plot\n",
    "column = 'Total Active M.D.s Non-Federal 2016'\n",
    "# States to analyze\n",
    "states = NE\n",
    "# Whether to normalize data before plotting\n",
    "normalize = False\n",
    "\n",
    "geocodes, results = analyzer.get_professions_data(column=column, states=states, normalize=normalize)\n",
    "plot_results(geocodes, results, states, column, 'prof')"
   ]
  },
  {
   "cell_type": "code",
   "execution_count": null,
   "metadata": {},
   "outputs": [],
   "source": []
  }
 ],
 "metadata": {
  "kernelspec": {
   "display_name": "Python 3",
   "language": "python",
   "name": "python3"
  },
  "language_info": {
   "codemirror_mode": {
    "name": "ipython",
    "version": 3
   },
   "file_extension": ".py",
   "mimetype": "text/x-python",
   "name": "python",
   "nbconvert_exporter": "python",
   "pygments_lexer": "ipython3",
   "version": "3.6.0"
  }
 },
 "nbformat": 4,
 "nbformat_minor": 1
}
